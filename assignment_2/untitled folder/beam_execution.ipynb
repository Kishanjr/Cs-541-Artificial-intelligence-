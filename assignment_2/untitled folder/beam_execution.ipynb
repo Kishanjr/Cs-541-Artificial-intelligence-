{
 "cells": [
  {
   "cell_type": "code",
   "execution_count": 1,
   "metadata": {
    "colab": {
     "base_uri": "https://localhost:8080/"
    },
    "id": "O46c-cEaqEUV",
    "outputId": "a1e04f41-1466-439a-b50a-461999d72fdb"
   },
   "outputs": [
    {
     "name": "stdout",
     "output_type": "stream",
     "text": [
      "Mounted at /content/drive\n"
     ]
    }
   ],
   "source": [
    "from google.colab import drive\n",
    "drive.mount('/content/drive')"
   ]
  },
  {
   "cell_type": "code",
   "execution_count": 2,
   "metadata": {
    "colab": {
     "base_uri": "https://localhost:8080/"
    },
    "id": "Ra9X2m62qEWx",
    "outputId": "53eb0356-5798-42f1-f03d-1e3222c5d0dd"
   },
   "outputs": [
    {
     "name": "stdout",
     "output_type": "stream",
     "text": [
      "drive  sample_data\n"
     ]
    }
   ],
   "source": [
    "!ls"
   ]
  },
  {
   "cell_type": "code",
   "execution_count": 20,
   "metadata": {
    "colab": {
     "base_uri": "https://localhost:8080/"
    },
    "id": "JHJLFb_vqEZd",
    "outputId": "f78709a9-583b-452d-8a83-f5dbb030b586"
   },
   "outputs": [
    {
     "name": "stdout",
     "output_type": "stream",
     "text": [
      "/content/drive/MyDrive/neural_machine_translation\n"
     ]
    }
   ],
   "source": [
    "\n",
    "%cd /content/drive/MyDrive/neural_machine_translation/"
   ]
  },
  {
   "cell_type": "code",
   "execution_count": 16,
   "metadata": {
    "id": "pB0zeSvbqEkU"
   },
   "outputs": [],
   "source": [
    "!python beam_search.py"
   ]
  },
  {
   "cell_type": "code",
   "execution_count": 9,
   "metadata": {
    "colab": {
     "base_uri": "https://localhost:8080/"
    },
    "id": "UCbLWZJLBb2k",
    "outputId": "f0c98454-5c6a-42f7-db2c-1fa55dc72877"
   },
   "outputs": [
    {
     "name": "stdout",
     "output_type": "stream",
     "text": [
      "Collecting sacrebleu\n",
      "  Downloading sacrebleu-2.0.0-py3-none-any.whl (90 kB)\n",
      "\u001b[?25l\r",
      "\u001b[K     |███▋                            | 10 kB 17.9 MB/s eta 0:00:01\r",
      "\u001b[K     |███████▏                        | 20 kB 9.3 MB/s eta 0:00:01\r",
      "\u001b[K     |██████████▉                     | 30 kB 7.7 MB/s eta 0:00:01\r",
      "\u001b[K     |██████████████▍                 | 40 kB 3.6 MB/s eta 0:00:01\r",
      "\u001b[K     |██████████████████              | 51 kB 3.6 MB/s eta 0:00:01\r",
      "\u001b[K     |█████████████████████▋          | 61 kB 4.3 MB/s eta 0:00:01\r",
      "\u001b[K     |█████████████████████████▎      | 71 kB 4.4 MB/s eta 0:00:01\r",
      "\u001b[K     |████████████████████████████▉   | 81 kB 4.5 MB/s eta 0:00:01\r",
      "\u001b[K     |████████████████████████████████| 90 kB 3.4 MB/s \n",
      "\u001b[?25hCollecting portalocker\n",
      "  Downloading portalocker-2.4.0-py2.py3-none-any.whl (16 kB)\n",
      "Requirement already satisfied: regex in /usr/local/lib/python3.7/dist-packages (from sacrebleu) (2019.12.20)\n",
      "Requirement already satisfied: numpy>=1.17 in /usr/local/lib/python3.7/dist-packages (from sacrebleu) (1.21.5)\n",
      "Collecting colorama\n",
      "  Downloading colorama-0.4.4-py2.py3-none-any.whl (16 kB)\n",
      "Requirement already satisfied: tabulate>=0.8.9 in /usr/local/lib/python3.7/dist-packages (from sacrebleu) (0.8.9)\n",
      "Installing collected packages: portalocker, colorama, sacrebleu\n",
      "Successfully installed colorama-0.4.4 portalocker-2.4.0 sacrebleu-2.0.0\n"
     ]
    }
   ],
   "source": [
    "!pip install sacrebleu\n",
    "import sacrebleu as sacrebleu"
   ]
  },
  {
   "cell_type": "code",
   "execution_count": 17,
   "metadata": {
    "colab": {
     "base_uri": "https://localhost:8080/"
    },
    "id": "tbPHSsHnZH0Y",
    "outputId": "6c6dbd28-8ace-4dcc-cdab-d20e27df24e6"
   },
   "outputs": [
    {
     "name": "stdout",
     "output_type": "stream",
     "text": [
      "/content/drive/MyDrive/neural_machine_translation/data\n",
      "sacreBLEU: That's 100 lines that end in a tokenized period ('.')\n",
      "sacreBLEU: It looks like you forgot to detokenize your test data, which may hurt your score.\n",
      "sacreBLEU: If you insist your data is detokenized, or don't care, you can suppress this message with the `force` parameter.\n",
      "{\n",
      " \"name\": \"BLEU\",\n",
      " \"score\": 12.6,\n",
      " \"signature\": \"nrefs:1|case:mixed|eff:no|tok:13a|smooth:exp|version:2.0.0\",\n",
      " \"verbose_score\": \"41.0/13.6/8.0/5.6 (BP = 1.000 ratio = 1.037 hyp_len = 6446 ref_len = 6218)\",\n",
      " \"nrefs\": \"1\",\n",
      " \"case\": \"mixed\",\n",
      " \"eff\": \"no\",\n",
      " \"tok\": \"13a\",\n",
      " \"smooth\": \"exp\",\n",
      " \"version\": \"2.0.0\"\n",
      "}\n",
      "\u001b[0m"
     ]
    }
   ],
   "source": [
    "%cd /content/drive/MyDrive/neural_machine_translation/data/\n",
    "\n",
    "!sacrebleu test.eng < test_beam_search_one.out"
   ]
  },
  {
   "cell_type": "code",
   "execution_count": 25,
   "metadata": {
    "colab": {
     "base_uri": "https://localhost:8080/"
    },
    "id": "zFy09eqjPKNQ",
    "outputId": "a9b1a89c-384e-4893-8a53-1876f57209b6"
   },
   "outputs": [
    {
     "name": "stdout",
     "output_type": "stream",
     "text": [
      "/content/drive/MyDrive/neural_machine_translation/data\n",
      "sacreBLEU: System and reference streams have different lengths.\n",
      "\u001b[0m"
     ]
    }
   ],
   "source": [
    "%cd /content/drive/MyDrive/neural_machine_translation/data/\n",
    "\n",
    "!sacrebleu test.eng < test_beam_search2.out"
   ]
  },
  {
   "cell_type": "code",
   "execution_count": 52,
   "metadata": {
    "colab": {
     "base_uri": "https://localhost:8080/"
    },
    "id": "8_q5__IImupm",
    "outputId": "0f4c63e8-ec6c-49a4-9d41-1e0d80a0d96d"
   },
   "outputs": [
    {
     "name": "stdout",
     "output_type": "stream",
     "text": [
      "/content/drive/MyDrive/neural_machine_translation/data\n",
      "sacreBLEU: That's 100 lines that end in a tokenized period ('.')\n",
      "sacreBLEU: It looks like you forgot to detokenize your test data, which may hurt your score.\n",
      "sacreBLEU: If you insist your data is detokenized, or don't care, you can suppress this message with the `force` parameter.\n",
      "{\n",
      " \"name\": \"BLEU\",\n",
      " \"score\": 12.6,\n",
      " \"signature\": \"nrefs:1|case:mixed|eff:no|tok:13a|smooth:exp|version:2.0.0\",\n",
      " \"verbose_score\": \"41.0/13.6/8.0/5.6 (BP = 1.000 ratio = 1.037 hyp_len = 6446 ref_len = 6218)\",\n",
      " \"nrefs\": \"1\",\n",
      " \"case\": \"mixed\",\n",
      " \"eff\": \"no\",\n",
      " \"tok\": \"13a\",\n",
      " \"smooth\": \"exp\",\n",
      " \"version\": \"2.0.0\"\n",
      "}\n",
      "\u001b[0m"
     ]
    }
   ],
   "source": [
    "%cd /content/drive/MyDrive/neural_machine_translation/data/\n",
    "\n",
    "!sacrebleu test.eng < test_beam_search2.out "
   ]
  },
  {
   "cell_type": "code",
   "execution_count": 54,
   "metadata": {
    "colab": {
     "base_uri": "https://localhost:8080/"
    },
    "id": "8TAzxnzGrII6",
    "outputId": "2faf1651-d37d-4cb5-a204-aef4f8d97376"
   },
   "outputs": [
    {
     "name": "stdout",
     "output_type": "stream",
     "text": [
      "\n",
      "/content/drive/MyDrive/neural_machine_translation/data\n",
      "sacreBLEU: That's 100 lines that end in a tokenized period ('.')\n",
      "sacreBLEU: It looks like you forgot to detokenize your test data, which may hurt your score.\n",
      "sacreBLEU: If you insist your data is detokenized, or don't care, you can suppress this message with the `force` parameter.\n",
      "{\n",
      " \"name\": \"BLEU\",\n",
      " \"score\": 22.6,\n",
      " \"signature\": \"nrefs:1|case:mixed|eff:no|tok:13a|smooth:exp|version:2.0.0\",\n",
      " \"verbose_score\": \"41.0/13.6/8.0/5.6 (BP = 1.000 ratio = 1.037 hyp_len = 6446 ref_len = 6218)\",\n",
      " \"nrefs\": \"1\",\n",
      " \"case\": \"mixed\",\n",
      " \"eff\": \"no\",\n",
      " \"tok\": \"13a\",\n",
      " \"smooth\": \"exp\",\n",
      " \"version\": \"2.0.0\"\n",
      "}\n"
     ]
    }
   ],
   "source": [
    "#best beam_size. = 7 and the score is 22.6\n",
    "%cd /content/drive/MyDrive/neural_machine_translation/data/\n",
    "\n",
    "!sacrebleu test.eng < test_beam_search2.out "
   ]
  },
  {
   "cell_type": "code",
   "execution_count": null,
   "metadata": {
    "id": "CcGjSBPZr72w"
   },
   "outputs": [],
   "source": []
  }
 ],
 "metadata": {
  "accelerator": "GPU",
  "colab": {
   "collapsed_sections": [],
   "name": "beam_execution.ipynb",
   "provenance": []
  },
  "kernelspec": {
   "display_name": "Python 3 (ipykernel)",
   "language": "python",
   "name": "python3"
  },
  "language_info": {
   "codemirror_mode": {
    "name": "ipython",
    "version": 3
   },
   "file_extension": ".py",
   "mimetype": "text/x-python",
   "name": "python",
   "nbconvert_exporter": "python",
   "pygments_lexer": "ipython3",
   "version": "3.9.7"
  }
 },
 "nbformat": 4,
 "nbformat_minor": 1
}
