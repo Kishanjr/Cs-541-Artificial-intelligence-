{
 "cells": [
  {
   "cell_type": "code",
   "execution_count": 1,
   "id": "eba8761b-3edc-4581-bebd-473b461b69b1",
   "metadata": {},
   "outputs": [
    {
     "name": "stdout",
     "output_type": "stream",
     "text": [
      "Requirement already satisfied: geopy in /Users/kishankumarravikumar/opt/anaconda3/lib/python3.9/site-packages (2.2.0)\r\n",
      "Requirement already satisfied: geographiclib<2,>=1.49 in /Users/kishankumarravikumar/opt/anaconda3/lib/python3.9/site-packages (from geopy) (1.52)\r\n"
     ]
    }
   ],
   "source": [
    "!pip install geopy"
   ]
  },
  {
   "cell_type": "code",
   "execution_count": 2,
   "id": "eba3069b-6d7b-4f8b-80d2-3bb6588b60a5",
   "metadata": {},
   "outputs": [
    {
     "name": "stdout",
     "output_type": "stream",
     "text": [
      "The distance between Abuja and Dakar is:  5.269113851617224\n"
     ]
    }
   ],
   "source": [
    "from geopy.distance import geodesic as GD\n",
    "NYC1 =(-73.9658, 40.7581,)\n",
    "NYC2 =(-74.0104, 40.702)\n",
    "print(\"The distance between Abuja and Dakar is: \", GD(NYC1,NYC2).km)\n"
   ]
  },
  {
   "cell_type": "code",
   "execution_count": 3,
   "id": "45df1e85-a108-4425-8b1e-ac9148fc328b",
   "metadata": {},
   "outputs": [],
   "source": [
    "import numpy as np\n",
    "import pandas as pd\n",
    "import csv\n",
    "from collections import namedtuple\n",
    "from collections import defaultdict\n",
    "import math\n",
    "import time"
   ]
  },
  {
   "cell_type": "code",
   "execution_count": 6,
   "id": "f88411ad-0958-4460-bc8b-313fc0fceffe",
   "metadata": {},
   "outputs": [],
   "source": [
    "nyc_taxi_data = pd.read_csv('nyc_taxi_data.csv')\n",
    "# nyc_taxi_data"
   ]
  },
  {
   "cell_type": "code",
   "execution_count": 7,
   "id": "fc3df75c-11e2-40dc-8bd8-36bac55668cd",
   "metadata": {},
   "outputs": [],
   "source": [
    "nyc_taxi_data_filtered = nyc_taxi_data[['pickup_longitude','pickup_latitude','dropoff_longitude','dropoff_latitude','trip_distance']]\n",
    "nyc_taxi_data_filtered_round = nyc_taxi_data_filtered.round(4)\n",
    "# [[-73.9641, 40.7614, -73.978, 40.7831, 2.4, 1.6894855129839041],\n",
    "#  [-73.9615, 40.7604, -73.9436, 40.7097, 5.0, 2.537787732633327],\n",
    "#  [-73.9869, 40.7617, -73.8732, 40.7743, 10.25, 12.695749689858845],\n",
    "#  [-73.9658, 40.7581, -74.0104, 40.702, 5.46, 5.269113851617224],\n",
    "#  [-73.955, 40.8219, -73.9509, 40.8084, 1.5, 0.6188987216454811],"
   ]
  },
  {
   "cell_type": "code",
   "execution_count": null,
   "id": "a063a9e9-c81d-4010-8ab5-b8f9ebb766bc",
   "metadata": {},
   "outputs": [],
   "source": [
    "weighted_edges = nyc_taxi_data_filtered_round.values.tolist()\n",
    "\n",
    "for i in weighted_edges:\n",
    "    nyc1 =(i[0],i[1])\n",
    "    nyc2 = (i[2],i[3])\n",
    "    heuristic_val = GD(nyc1,nyc2).km\n",
    "    i = i.append(heuristic_val)\n",
    "      "
   ]
  },
  {
   "cell_type": "code",
   "execution_count": null,
   "id": "dad16d99-5406-4513-be6a-df97fe5754f0",
   "metadata": {},
   "outputs": [],
   "source": [
    "graph = defaultdict(list)\n",
    "for i in weighted_edges:\n",
    "    pick_cord=(i[0],i[1])\n",
    "    graph[pick_cord].append([ i[2],i[3],i[4],i[5]])\n"
   ]
  },
  {
   "cell_type": "code",
   "execution_count": null,
   "id": "6254c68f-cff6-427d-aec4-cfef5a562184",
   "metadata": {},
   "outputs": [],
   "source": [
    "i = 0\n",
    "lat_long_id = {}\n",
    "for key in graph:\n",
    "    values = graph[key]\n",
    "    if key not in lat_long_id:\n",
    "        i += 1\n",
    "        lat_long_id[key] = i\n",
    "    for value in values:\n",
    "        lat, long = value[0], value[1]\n",
    "        if (lat,long) not in lat_long_id:\n",
    "            i += 1\n",
    "            lat_long_id[lat, long] = i\n",
    "\n",
    "list_of_nodeid_lat_long = list(lat_long_id.keys())\n",
    "list_of_nodeid_nodeId = list(lat_long_id.values())\n",
    "# graph"
   ]
  },
  {
   "cell_type": "code",
   "execution_count": null,
   "id": "faa6a6b4-fe1b-4594-873c-02a965039720",
   "metadata": {},
   "outputs": [],
   "source": [
    "node_1_2 = []\n",
    "node_1_2_dist_heu = []\n",
    "for source in graph:\n",
    "    destinations = graph[source]\n",
    "    source_id = lat_long_id[source]\n",
    "    for destination in destinations:\n",
    "        # print(destination)\n",
    "        lat, long = destination[0], destination[1]\n",
    "        lat, long, dist,heu = destination[0], destination[1],destination[2],destination[3]\n",
    "        # print(lat,long)\n",
    "        destination_id = lat_long_id[lat, long]\n",
    "        node_1_2.append((source_id, destination_id))\n",
    "        node_1_2_dist_heu.append([source_id, destination_id,dist,heu])\n",
    "# node_1_2_dist_heu\n",
    "# lat_long_id"
   ]
  },
  {
   "cell_type": "code",
   "execution_count": null,
   "id": "ab7360f3-27d8-4cf5-98b5-aa6dd38c6383",
   "metadata": {},
   "outputs": [],
   "source": [
    "def directedGraph(edges):\n",
    "    graph_new = defaultdict(dict)\n",
    "    for u, v, dist,heu in edges:\n",
    "        graph_new[u][v] = dist,heu\n",
    "        graph_new[v][u] = dist,heu\n",
    "    return graph_new\n",
    "\n",
    "directed_weighted_graph=directedGraph(node_1_2_dist_heu)\n",
    "directed_weighted_graph"
   ]
  },
  {
   "cell_type": "code",
   "execution_count": null,
   "id": "85ef68e8-d517-418d-aced-a24c43b39037",
   "metadata": {},
   "outputs": [],
   "source": [
    "start = time.time()\n",
    "def find_heu(cell, goal):\n",
    "    start_cord = (list(lat_long_id.keys())[list(lat_long_id.values()).index(cell)])\n",
    "    goal_cord = (list(lat_long_id.keys())[list(lat_long_id.values()).index(goal)])\n",
    "    heuristic_val = GD(start_cord,goal_cord).km\n",
    "    return heuristic_val\n",
    "    \n",
    "    \n",
    "    \n",
    "    \n",
    "\n",
    "def reconstruct_path(came_from, current):\n",
    "    final_path = [current]\n",
    "    while current in came_from:\n",
    "        current = came_from[current]\n",
    "        final_path.append(current)\n",
    "    return final_path\n",
    "\n",
    "\n",
    "def A_star(graph, start, goal):\n",
    "    # start_new1,start_new2 = list(lat_long_id.keys())[list(lat_long_id.values()).index(start)]\n",
    "    # start_new = [start_new1,start_new2]\n",
    "    # goal_new1,goal_new2 =list(lat_long_id.keys())[list(lat_long_id.values()).index(goal)]\n",
    "    # goal_new = [goal_new1,goal_new2]\n",
    "    closed_set = []\n",
    "    open_set = [start]\n",
    "    came_from ={}\n",
    "    gscore ={}\n",
    "    for key in graph:\n",
    "        gscore[key] = 10000\n",
    "    gscore[start] = 0\n",
    "    fscore = {}\n",
    "    for key in graph:\n",
    "        fscore[key] = 1000000\n",
    "    fscore[start] = find_heu(start, goal)\n",
    "    \n",
    "    \n",
    "    while open_set:\n",
    "        min_val = 10000\n",
    "        for node in open_set:\n",
    "            if fscore[node] < min_val:\n",
    "                min_val = fscore[node]\n",
    "                min_node = node\n",
    "        current = min_node\n",
    "        \n",
    "        if current == goal:\n",
    "            return reconstruct_path(came_from, current)\n",
    "        open_set.remove(current)\n",
    "        closed_set.append(current)\n",
    "        \n",
    "        for neighbor in graph[current]:\n",
    "            if neighbor in closed_set:\n",
    "                continue\n",
    "            if neighbor not in open_set:\n",
    "                open_set.append(neighbor)\n",
    "            tentative_gscore = gscore[current] + 1\n",
    "            \n",
    "            if tentative_gscore >= gscore[neighbor]:\n",
    "                continue\n",
    "            came_from[neighbor] = current  # record the best path untill now\n",
    "            gscore[neighbor] = tentative_gscore\n",
    "            fscore[neighbor] = gscore[neighbor] + find_heu(start, goal)\n",
    "    print(\"here\")\n",
    "    return False\n",
    "\n",
    "        \n",
    "        \n",
    "        \n",
    "\n",
    "        \n",
    "        "
   ]
  },
  {
   "cell_type": "code",
   "execution_count": null,
   "id": "f4239e7e-1458-4b8e-a435-93d150b5975c",
   "metadata": {},
   "outputs": [],
   "source": []
  },
  {
   "cell_type": "code",
   "execution_count": null,
   "id": "66c20376-14e7-4b12-8723-bd54516ad338",
   "metadata": {},
   "outputs": [],
   "source": [
    "end = time.time()\n",
    "shortest_route = A_star(directed_weighted_graph, 1, 10)\n",
    "time = end - start"
   ]
  },
  {
   "cell_type": "code",
   "execution_count": null,
   "id": "7f3d9184-1f7e-42c2-8403-b090ee0f4262",
   "metadata": {},
   "outputs": [],
   "source": [
    "\n",
    "dist = 0\n",
    "for i in range(len(shortest_route) - 1):\n",
    "    key =shortest_route[i]\n",
    "    j = i +1\n",
    "    key2 = shortest_route[j]\n",
    "    dist = dist + directed_weighted_graph[key][key2][0]\n",
    "    \n",
    "print(f'path is:{shortest_route}')   \n",
    "print(f'path distance is :{dist}')    \n",
    "print(f'time take is:{time}')"
   ]
  },
  {
   "cell_type": "code",
   "execution_count": null,
   "id": "4cc39ed7-94d3-41e0-a54c-099391501535",
   "metadata": {},
   "outputs": [],
   "source": [
    "\n",
    "\n",
    "    \n",
    "    \n",
    "\n",
    "\n"
   ]
  },
  {
   "cell_type": "code",
   "execution_count": null,
   "id": "210c059b-eba6-494b-8f98-f5dd1bbd12d1",
   "metadata": {},
   "outputs": [],
   "source": []
  }
 ],
 "metadata": {
  "kernelspec": {
   "display_name": "Python 3 (ipykernel)",
   "language": "python",
   "name": "python3"
  },
  "language_info": {
   "codemirror_mode": {
    "name": "ipython",
    "version": 3
   },
   "file_extension": ".py",
   "mimetype": "text/x-python",
   "name": "python",
   "nbconvert_exporter": "python",
   "pygments_lexer": "ipython3",
   "version": "3.9.7"
  }
 },
 "nbformat": 4,
 "nbformat_minor": 5
}
